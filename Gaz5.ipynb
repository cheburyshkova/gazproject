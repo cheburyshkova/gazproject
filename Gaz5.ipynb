{
  "nbformat": 4,
  "nbformat_minor": 0,
  "metadata": {
    "colab": {
      "provenance": [],
      "authorship_tag": "ABX9TyNUckwwCC3qlbZ+dVPid0kx"
    },
    "kernelspec": {
      "name": "python3",
      "display_name": "Python 3"
    },
    "language_info": {
      "name": "python"
    }
  },
  "cells": [
    {
      "cell_type": "code",
      "source": [
        "import pandas as pd\n",
        "import matplotlib.pyplot as plt\n",
        "import seaborn as sns"
      ],
      "metadata": {
        "id": "2WGKzd3T-Ety"
      },
      "execution_count": 1,
      "outputs": []
    },
    {
      "cell_type": "code",
      "source": [
        "test = pd.read_csv('test.csv')\n",
        "# test.head(10)"
      ],
      "metadata": {
        "id": "3H_W7PHLD8qt"
      },
      "execution_count": 2,
      "outputs": []
    },
    {
      "cell_type": "code",
      "source": [
        "train = pd.read_csv('train.csv')\n",
        "# train.head(10)"
      ],
      "metadata": {
        "id": "lsPRgMnPD8xP"
      },
      "execution_count": 14,
      "outputs": []
    },
    {
      "cell_type": "code",
      "source": [
        "train.info()"
      ],
      "metadata": {
        "id": "cTM5U-bSHwT4"
      },
      "execution_count": null,
      "outputs": []
    },
    {
      "cell_type": "code",
      "source": [
        "train.isnull().sum()"
      ],
      "metadata": {
        "id": "G_R2W66BHwXX"
      },
      "execution_count": null,
      "outputs": []
    },
    {
      "cell_type": "code",
      "source": [
        "train.drop(columns= 'Примечание', axis=1, inplace=True)"
      ],
      "metadata": {
        "id": "8SJdPRzVKBAs"
      },
      "execution_count": 6,
      "outputs": []
    },
    {
      "cell_type": "code",
      "source": [
        "train.dropna()"
      ],
      "metadata": {
        "id": "PrspX1_TIIfl"
      },
      "execution_count": null,
      "outputs": []
    },
    {
      "cell_type": "code",
      "source": [
        "train.drop(['ЦОС', 'Схема', 'Класс', 'Юридический адрес заявителя', 'Контакты заявителя', 'Контакты изготовителя', 'Органпосертификации', 'Изготовитель', 'Номер бланка', 'Рег. номер cертификата соответствия (СС)', 'Юридический адрес изготовителя'], axis = 1, inplace = True)\n",
        "#train.head(3)"
      ],
      "metadata": {
        "id": "8mbw2tbd41D-"
      },
      "execution_count": 8,
      "outputs": []
    },
    {
      "cell_type": "code",
      "source": [
        "#train['Дата окончания действия СС'] = pd.to_datetime(train['Дата окончания действия СС'])"
      ],
      "metadata": {
        "id": "1tzA9xboYXMY"
      },
      "execution_count": 9,
      "outputs": []
    },
    {
      "cell_type": "code",
      "source": [
        "#train['Датавыдачи СС'] = pd.to_datetime(train['Датавыдачи СС'])"
      ],
      "metadata": {
        "id": "IPZF_-ofYXb4"
      },
      "execution_count": null,
      "outputs": []
    },
    {
      "cell_type": "code",
      "source": [
        "train.head(10)"
      ],
      "metadata": {
        "id": "SJ65xbZyOz0c"
      },
      "execution_count": null,
      "outputs": []
    },
    {
      "cell_type": "code",
      "source": [
        "'''\n",
        "time_series = train.groupby('Датавыдачи СС').size()\n",
        "\n",
        "# Визуализация временного ряда\n",
        "time_series.plot(figsize=(12, 6), title='Количество продукции по времени')\n",
        "plt.xlabel('Дата выдачи СС')\n",
        "plt.ylabel('Количество продукции')\n",
        "plt.show()\n",
        "'''"
      ],
      "metadata": {
        "id": "S2BhZG6nYXfH"
      },
      "execution_count": null,
      "outputs": []
    },
    {
      "cell_type": "code",
      "source": [
        "train.set_index('Датавыдачи СС', inplace = True)\n",
        "#train.head(5)"
      ],
      "metadata": {
        "id": "_mb6AAulppEl"
      },
      "execution_count": 15,
      "outputs": []
    },
    {
      "cell_type": "code",
      "source": [
        "train.index = pd.to_datetime(train.index)\n",
        "train.index[:5]"
      ],
      "metadata": {
        "id": "2T7WoUFdW04P"
      },
      "execution_count": null,
      "outputs": []
    },
    {
      "cell_type": "markdown",
      "source": [
        "теперь попробуем подсчитать сколько сертов делаллось за год"
      ],
      "metadata": {
        "id": "hd-1d3S8vqFK"
      }
    },
    {
      "cell_type": "code",
      "source": [
        "train['Год'] = train.index.year\n",
        "train['Месяц'] = train.index.month\n",
        "\n",
        "applicants= train.groupby(['Год', 'Месяц'])['Заявитель'].count().reset_index(name='Общее количество заявителей')\n",
        "\n",
        "print(applicants)"
      ],
      "metadata": {
        "id": "XGnnM09LmC-N"
      },
      "execution_count": null,
      "outputs": []
    },
    {
      "cell_type": "code",
      "source": [
        "plt.figure(figsize=(12, 6))\n",
        "sns.lineplot(x='Год', y='Общее количество заявителей', hue='Месяц', data=applicants, marker='o')\n",
        "plt.title('Общее количество заявителей по годам и месяцам')\n",
        "plt.xlabel('Год')\n",
        "plt.ylabel('Общее количество заявителей')\n",
        "plt.legend(title='Месяц', bbox_to_anchor=(1.05, 1), loc='upper left')\n",
        "plt.show()"
      ],
      "metadata": {
        "id": "0Pq6hE8SkHS5"
      },
      "execution_count": null,
      "outputs": []
    },
    {
      "cell_type": "markdown",
      "source": [
        " модель линейная"
      ],
      "metadata": {
        "id": "8VzmyWiE9MgW"
      }
    },
    {
      "cell_type": "code",
      "source": [
        "frequency = train['Наименование продукции'].value_counts()\n",
        "print(frequency)"
      ],
      "metadata": {
        "id": "3i3a8NbJ7ZOX"
      },
      "execution_count": null,
      "outputs": []
    },
    {
      "cell_type": "code",
      "source": [
        "labels, unique = pd.factorize(train['Заявитель'])\n",
        "\n",
        "# Сохраняем индификаторы\n",
        "train['Заявитель_id'] = labels\n",
        "\n",
        "frequency = train['Заявитель_id'].value_counts()\n",
        "#print(frequency)"
      ],
      "metadata": {
        "id": "F0eegppDDU4E"
      },
      "execution_count": 20,
      "outputs": []
    },
    {
      "cell_type": "code",
      "source": [
        "time_series = pd.Series(labels, index=train.index)\n",
        "\n",
        "print(time_series)"
      ],
      "metadata": {
        "id": "_G3EAjh_DMc0"
      },
      "execution_count": null,
      "outputs": []
    },
    {
      "cell_type": "markdown",
      "source": [
        "активность конкретных заявителей"
      ],
      "metadata": {
        "id": "l8F2vHpu6XrC"
      }
    },
    {
      "cell_type": "code",
      "source": [
        "activity_count = train.groupby('Заявитель_id').size()\n",
        "\n",
        "activity_count_sorted = activity_count.sort_values(ascending=False)\n",
        "\n",
        "print(activity_count_sorted)"
      ],
      "metadata": {
        "id": "oe20f0mEjHH-"
      },
      "execution_count": null,
      "outputs": []
    },
    {
      "cell_type": "code",
      "source": [
        "id_to_applicant = {id: applicant for id, applicant in zip(labels, unique)}\n",
        "\n",
        "train['Заявитель'] = train['Заявитель_id'].map(id_to_applicant)\n",
        "\n",
        "applicant_activity = train.groupby('Заявитель').size().sort_values(ascending=False)\n",
        "\n",
        "top_applicants = applicant_activity.head(10)\n",
        "print(top_applicants)"
      ],
      "metadata": {
        "id": "vmPAO35NkAU-"
      },
      "execution_count": null,
      "outputs": []
    },
    {
      "cell_type": "code",
      "source": [],
      "metadata": {
        "id": "82WHk1JkkAuP"
      },
      "execution_count": null,
      "outputs": []
    },
    {
      "cell_type": "markdown",
      "source": [
        "проверка на стационарность (делала через визуализацию, не вышло)"
      ],
      "metadata": {
        "id": "1omDAicXE5Mo"
      }
    },
    {
      "cell_type": "code",
      "source": [
        "from statsmodels.tsa.stattools import adfuller\n",
        "\n",
        "def check_stationarity(time_series):\n",
        "    # Выполнение теста Дики-Фуллера:\n",
        "    result = adfuller(time_series, autolag='AIC')\n",
        "\n",
        "    print('ADF Statistic: %f' % result[0])\n",
        "    print('p-value: %f' % result[1])\n",
        "    print('Critical Values:')\n",
        "    for key, value in result[4].items():\n",
        "        print('\\t%s: %.3f' % (key, value))\n",
        "\n",
        "    # Интерпретация результатов:\n",
        "    if result[1] <= 0.05:\n",
        "        print(\"Отвергаем нулевую гипотезу (H0), временной ряд стационарен.\")\n",
        "    else:\n",
        "        print(\"Не отвергаем нулевую гипотезу (H0), временной ряд нестационарен.\")\n",
        "\n",
        "check_stationarity(time_series)"
      ],
      "metadata": {
        "id": "qJDAg_BVBDS6"
      },
      "execution_count": null,
      "outputs": []
    },
    {
      "cell_type": "code",
      "source": [
        "time_series_diff = time_series.diff().dropna()\n",
        "\n",
        "result_diff = adfuller(time_series_diff)\n",
        "print('ADF Statistic: %f' % result_diff[0])\n",
        "print('p-value: %f' % result_diff[1])\n",
        "print('Critical Values:')\n",
        "for key, value in result_diff[4].items():\n",
        "    print('\\t%s: %.3f' % (key, value))\n",
        "\n",
        "if result_diff[1] <= 0.05:\n",
        "    print(\"Отвергаем нулевую гипотезу (H0), временной ряд стационарен после первого дифференцирования.\")\n",
        "else:\n",
        "    print(\"Не отвергаем нулевую гипотезу (H0), временной ряд все еще нестационарен и может потребовать дополнительного дифференцирования.\")\n"
      ],
      "metadata": {
        "id": "jVMWjLEABDz0"
      },
      "execution_count": null,
      "outputs": []
    },
    {
      "cell_type": "code",
      "source": [
        "test.set_index('Датавыдачи СС', inplace=True)\n",
        "test.index = pd.to_datetime(test.index)\n",
        "test.index[:5]"
      ],
      "metadata": {
        "id": "9FBKxAPGHfVo"
      },
      "execution_count": null,
      "outputs": []
    },
    {
      "cell_type": "code",
      "source": [
        "label_map = {name: label for label, name in enumerate(unique)}\n",
        "test['Заявитель_id'] = test['Заявитель'].map(label_map)\n",
        "\n",
        "test['Заявитель_id'].fillna(-1, inplace=True)\n",
        "\n",
        "test_time_series = pd.Series(test['Заявитель_id'].values, index=test.index)"
      ],
      "metadata": {
        "id": "NAHXG8YDHKF8"
      },
      "execution_count": 25,
      "outputs": []
    },
    {
      "cell_type": "code",
      "source": [
        "from statsmodels.graphics.tsaplots import plot_acf, plot_pacf\n",
        "\n",
        "plt.figure(figsize=(12, 6))\n",
        "plot_acf(time_series, lags=25)\n",
        "plt.title('График автокорреляционной функции (ACF)')\n",
        "plt.show()\n",
        "\n",
        "plt.figure(figsize=(12, 6))\n",
        "plot_pacf(time_series, lags=25)\n",
        "plt.title('График частичной автокорреляционной функции (PACF)')\n",
        "plt.show()"
      ],
      "metadata": {
        "id": "n58yROGSGOdY"
      },
      "execution_count": null,
      "outputs": []
    },
    {
      "cell_type": "markdown",
      "source": [
        "Итог, каждый 6 лаг"
      ],
      "metadata": {
        "id": "UT8WnqUxTSqx"
      }
    },
    {
      "cell_type": "code",
      "source": [],
      "metadata": {
        "id": "ZdhNLUQ1v9aZ"
      },
      "execution_count": null,
      "outputs": []
    }
  ]
}